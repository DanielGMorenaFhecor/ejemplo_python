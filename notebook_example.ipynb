{
 "cells": [
  {
   "cell_type": "markdown",
   "metadata": {},
   "source": [
    "# Example Notebook\n",
    "First we create a concrete using the SimpleConcreteFactory and then we extract their main properties"
   ]
  },
  {
   "cell_type": "code",
   "execution_count": 1,
   "metadata": {},
   "outputs": [],
   "source": [
    "from materials.concrete_factories.simple_concrete_factory import SimpleConcreteFactory"
   ]
  },
  {
   "cell_type": "code",
   "execution_count": 2,
   "metadata": {},
   "outputs": [
    {
     "name": "stdout",
     "output_type": "stream",
     "text": [
      "--EUROCODE CONCRETE--\n",
      "Concrete density: 2400.0kg/m3\n",
      "Concrete compressive strength: 30 MPa\n",
      "Concrete modulus of elasticity: 32836.56803133079 MPa\n",
      "--------------------\n"
     ]
    }
   ],
   "source": [
    "print('--EUROCODE CONCRETE--')\n",
    "ec_concrete_factory = SimpleConcreteFactory(norm_name='ec',fck=30)\n",
    "ec_concrete = ec_concrete_factory.create_concrete()\n",
    "print(f'Concrete density: {ec_concrete.density}kg/m3')\n",
    "print(f'Concrete compressive strength: {ec_concrete.fck()} MPa')\n",
    "print(f'Concrete modulus of elasticity: {ec_concrete.Ecm()} MPa')\n",
    "print('--------------------')"
   ]
  },
  {
   "cell_type": "code",
   "execution_count": 3,
   "metadata": {},
   "outputs": [
    {
     "name": "stdout",
     "output_type": "stream",
     "text": [
      "--ACI STANDARD CONCRETE--\n",
      "Conrete density: 2286.04kg/m3\n",
      "Concrete compressive strength: 25 MPa\n",
      "Concrete modulus of elasticity: 23499.801708657724 MPa\n",
      "--------------------\n"
     ]
    }
   ],
   "source": [
    "print('--ACI STANDARD CONCRETE--')\n",
    "aci_concrete_factory = SimpleConcreteFactory(norm_name='aci',fck=25)\n",
    "aci_concrete = aci_concrete_factory.create_concrete()\n",
    "print(f'Conrete density: {aci_concrete.density}kg/m3')\n",
    "print(f'Concrete compressive strength: {aci_concrete.fck()} MPa')\n",
    "print(f'Concrete modulus of elasticity: {aci_concrete.Ecm()} MPa')\n",
    "print('--------------------')"
   ]
  },
  {
   "cell_type": "markdown",
   "metadata": {},
   "source": [
    "### We can also use directly the Eurocode and ACI formulas an relationships"
   ]
  },
  {
   "cell_type": "code",
   "execution_count": 4,
   "metadata": {},
   "outputs": [],
   "source": [
    "from structural_standards.concrete.eurocode import Eurocode_1992_2\n",
    "from structural_standards.concrete.aci import Aci_318_19"
   ]
  },
  {
   "cell_type": "code",
   "execution_count": 5,
   "metadata": {},
   "outputs": [],
   "source": [
    "eurocode = Eurocode_1992_2(national_code='')\n",
    "aci = Aci_318_19()"
   ]
  },
  {
   "cell_type": "code",
   "execution_count": 8,
   "metadata": {},
   "outputs": [],
   "source": [
    "fck=30\n",
    "fcm=eurocode.fcm(fck)\n",
    "fcm_t=eurocode.fcm_t(fcm, t=15, s=0.35)\n",
    "Ecm=eurocode.Ecm(fck)\n",
    "Ecm_t=eurocode.Ecm_t(fcm_t,fcm,Ecm)"
   ]
  },
  {
   "cell_type": "code",
   "execution_count": 13,
   "metadata": {},
   "outputs": [
    {
     "name": "stdout",
     "output_type": "stream",
     "text": [
      "EUROCODE FORMULAS\n",
      "fck = 30 MPa\n",
      "fck = 38 MPa\n",
      "fcm(t) = 33.428041846614434\n",
      "Ecm = 32836.56803133079 MPa\n",
      "Ecm(t) = 31597.735690279107 MPa\n"
     ]
    }
   ],
   "source": [
    "print('EUROCODE FORMULAS')\n",
    "print(f'fck = {fck} MPa')\n",
    "print(f'fck = {fcm} MPa')\n",
    "print(f'fcm(t) = {fcm_t}')\n",
    "print(f'Ecm = {Ecm} MPa')\n",
    "print(f'Ecm(t) = {Ecm_t} MPa')"
   ]
  },
  {
   "cell_type": "code",
   "execution_count": 16,
   "metadata": {},
   "outputs": [],
   "source": [
    "fc=25\n",
    "Ec=aci.Ec(fc, wc=2400)"
   ]
  },
  {
   "cell_type": "code",
   "execution_count": 14,
   "metadata": {},
   "outputs": [
    {
     "name": "stdout",
     "output_type": "stream",
     "text": [
      "ACI FORMULAS\n",
      "fc = 25 MPa\n",
      "Ec = 25278.734145522394 MPa\n"
     ]
    }
   ],
   "source": [
    "print('ACI FORMULAS')\n",
    "print(f'fc = {fc} MPa')\n",
    "print(f'Ec = {Ec} MPa')"
   ]
  },
  {
   "cell_type": "markdown",
   "metadata": {},
   "source": [
    "### We can also print help if neccessary"
   ]
  },
  {
   "cell_type": "code",
   "execution_count": 18,
   "metadata": {},
   "outputs": [
    {
     "name": "stdout",
     "output_type": "stream",
     "text": [
      "Help on method fck_t in module structural_standards.concrete.eurocode:\n",
      "\n",
      "fck_t(fck: float, fcm: float, t: float, s: float) -> float method of structural_standards.concrete.eurocode.Eurocode_1992_2 instance\n",
      "    EN 1992-1.1:2004 3.1.2 (5)\n",
      "    Computes the concrete compressive strength at time 't'\n",
      "    \n",
      "    Parameters\n",
      "    ----------\n",
      "    fck : float\n",
      "        concrete compressive strength at 28 days\n",
      "    fcm : float\n",
      "        the mean compressive strength at 28 days according to Table 3.1 in MPa\n",
      "    t : float\n",
      "        time in days\n",
      "    s : float\n",
      "        cement coefficient\n",
      "\n"
     ]
    }
   ],
   "source": [
    "help(eurocode.fck_t)"
   ]
  },
  {
   "cell_type": "markdown",
   "metadata": {},
   "source": [
    "### Finally, we can also instantiate different specific classes for concretes"
   ]
  },
  {
   "cell_type": "code",
   "execution_count": 20,
   "metadata": {},
   "outputs": [],
   "source": [
    "from materials.concretes.ec_concrete import EcConcrete\n",
    "from materials.concretes.aci_concrete import AciConcrete"
   ]
  },
  {
   "cell_type": "code",
   "execution_count": 24,
   "metadata": {},
   "outputs": [],
   "source": [
    "ec_concrete = EcConcrete(name='My EC Concrete',fck=30,density=2400)\n",
    "aci_concrete = AciConcrete(name='My ACI Concrete', fc=25, wc=2300)"
   ]
  },
  {
   "cell_type": "code",
   "execution_count": 25,
   "metadata": {},
   "outputs": [
    {
     "name": "stdout",
     "output_type": "stream",
     "text": [
      "EC Concrete Info\n",
      "Name: My EC Concrete\n",
      "Ecm = 32836.56803133079 MPa\n",
      "fck = 30 MPa\n"
     ]
    }
   ],
   "source": [
    "print(f'EC Concrete Info')\n",
    "print(f'Name: {ec_concrete.name}')\n",
    "print(f'Ecm = {ec_concrete.Ecm()} MPa')\n",
    "print(f'fck = {ec_concrete.fck()} MPa')"
   ]
  },
  {
   "cell_type": "code",
   "execution_count": null,
   "metadata": {},
   "outputs": [],
   "source": [
    "print('ACI Concrete Info')\n",
    "print(f'Name: {aci_concrete.name}')\n",
    "print(f'Ec = {aci_concrete.Ec} MPa')\n",
    "print(f'fc = {aci_concrete.fc} MPa')"
   ]
  }
 ],
 "metadata": {
  "kernelspec": {
   "display_name": "Python 3.9.7 ('.venv': venv)",
   "language": "python",
   "name": "python3"
  },
  "language_info": {
   "codemirror_mode": {
    "name": "ipython",
    "version": 3
   },
   "file_extension": ".py",
   "mimetype": "text/x-python",
   "name": "python",
   "nbconvert_exporter": "python",
   "pygments_lexer": "ipython3",
   "version": "3.9.7"
  },
  "orig_nbformat": 4,
  "vscode": {
   "interpreter": {
    "hash": "9b36bce5b1fabd05c9bee16df27ee1c9a1fb9c64dd75eac6f7a66ec19594a47c"
   }
  }
 },
 "nbformat": 4,
 "nbformat_minor": 2
}
